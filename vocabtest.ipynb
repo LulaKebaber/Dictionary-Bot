{
 "cells": [
  {
   "cell_type": "code",
   "execution_count": 29,
   "metadata": {},
   "outputs": [],
   "source": [
    "import pandas as pd\n",
    "df = pd.read_csv('vocab.csv')"
   ]
  },
  {
   "cell_type": "code",
   "execution_count": 36,
   "id": "7a2b0613",
   "metadata": {},
   "outputs": [
    {
     "data": {
      "text/html": [
       "<div>\n",
       "<style scoped>\n",
       "    .dataframe tbody tr th:only-of-type {\n",
       "        vertical-align: middle;\n",
       "    }\n",
       "\n",
       "    .dataframe tbody tr th {\n",
       "        vertical-align: top;\n",
       "    }\n",
       "\n",
       "    .dataframe thead th {\n",
       "        text-align: right;\n",
       "    }\n",
       "</style>\n",
       "<table border=\"1\" class=\"dataframe\">\n",
       "  <thead>\n",
       "    <tr style=\"text-align: right;\">\n",
       "      <th></th>\n",
       "      <th>word</th>\n",
       "      <th>translation</th>\n",
       "      <th>type</th>\n",
       "    </tr>\n",
       "  </thead>\n",
       "  <tbody>\n",
       "    <tr>\n",
       "      <th>0</th>\n",
       "      <td>devotion</td>\n",
       "      <td>преданность</td>\n",
       "      <td>noun</td>\n",
       "    </tr>\n",
       "    <tr>\n",
       "      <th>1</th>\n",
       "      <td>dauntless</td>\n",
       "      <td>бесстрашный</td>\n",
       "      <td>adjective</td>\n",
       "    </tr>\n",
       "    <tr>\n",
       "      <th>2</th>\n",
       "      <td>Hello</td>\n",
       "      <td>привет</td>\n",
       "      <td>noun</td>\n",
       "    </tr>\n",
       "    <tr>\n",
       "      <th>3</th>\n",
       "      <td>iyghyghiiyh</td>\n",
       "      <td>uygghiyyhi</td>\n",
       "      <td>jhbhjgtf</td>\n",
       "    </tr>\n",
       "    <tr>\n",
       "      <th>4</th>\n",
       "      <td>ex</td>\n",
       "      <td>ex</td>\n",
       "      <td>ex</td>\n",
       "    </tr>\n",
       "  </tbody>\n",
       "</table>\n",
       "</div>"
      ],
      "text/plain": [
       "          word  translation       type\n",
       "0     devotion  преданность       noun\n",
       "1    dauntless  бесстрашный  adjective\n",
       "2        Hello       привет       noun\n",
       "3  iyghyghiiyh   uygghiyyhi   jhbhjgtf\n",
       "4           ex           ex         ex"
      ]
     },
     "execution_count": 36,
     "metadata": {},
     "output_type": "execute_result"
    }
   ],
   "source": [
    "df"
   ]
  },
  {
   "cell_type": "code",
   "execution_count": 39,
   "id": "77466985",
   "metadata": {},
   "outputs": [],
   "source": [
    "df.drop('word', axis=1, inplace=True)"
   ]
  },
  {
   "cell_type": "code",
   "execution_count": 40,
   "id": "114be86e",
   "metadata": {},
   "outputs": [
    {
     "data": {
      "text/html": [
       "<div>\n",
       "<style scoped>\n",
       "    .dataframe tbody tr th:only-of-type {\n",
       "        vertical-align: middle;\n",
       "    }\n",
       "\n",
       "    .dataframe tbody tr th {\n",
       "        vertical-align: top;\n",
       "    }\n",
       "\n",
       "    .dataframe thead th {\n",
       "        text-align: right;\n",
       "    }\n",
       "</style>\n",
       "<table border=\"1\" class=\"dataframe\">\n",
       "  <thead>\n",
       "    <tr style=\"text-align: right;\">\n",
       "      <th></th>\n",
       "      <th>translation</th>\n",
       "      <th>type</th>\n",
       "    </tr>\n",
       "  </thead>\n",
       "  <tbody>\n",
       "    <tr>\n",
       "      <th>0</th>\n",
       "      <td>преданность</td>\n",
       "      <td>noun</td>\n",
       "    </tr>\n",
       "    <tr>\n",
       "      <th>1</th>\n",
       "      <td>бесстрашный</td>\n",
       "      <td>adjective</td>\n",
       "    </tr>\n",
       "    <tr>\n",
       "      <th>2</th>\n",
       "      <td>привет</td>\n",
       "      <td>noun</td>\n",
       "    </tr>\n",
       "    <tr>\n",
       "      <th>3</th>\n",
       "      <td>uygghiyyhi</td>\n",
       "      <td>jhbhjgtf</td>\n",
       "    </tr>\n",
       "    <tr>\n",
       "      <th>4</th>\n",
       "      <td>ex</td>\n",
       "      <td>ex</td>\n",
       "    </tr>\n",
       "  </tbody>\n",
       "</table>\n",
       "</div>"
      ],
      "text/plain": [
       "   translation       type\n",
       "0  преданность       noun\n",
       "1  бесстрашный  adjective\n",
       "2       привет       noun\n",
       "3   uygghiyyhi   jhbhjgtf\n",
       "4           ex         ex"
      ]
     },
     "execution_count": 40,
     "metadata": {},
     "output_type": "execute_result"
    }
   ],
   "source": [
    "df"
   ]
  },
  {
   "cell_type": "code",
   "execution_count": 34,
   "id": "5e4c9caf",
   "metadata": {},
   "outputs": [],
   "source": [
    "def a():\n",
    "    df.loc[len(df.index)] = [1, 1, 1]\n",
    "    df.word[len(df.index) - 1] = 'ex'\n",
    "    df.translation[len(df.index) - 1] = 'ex'\n",
    "    df.type[len(df.index) - 1] = 'ex'\n",
    "    df = df.drop('word', axis=1)"
   ]
  },
  {
   "cell_type": "code",
   "execution_count": 35,
   "id": "09fb6b87",
   "metadata": {},
   "outputs": [
    {
     "ename": "UnboundLocalError",
     "evalue": "local variable 'df' referenced before assignment",
     "output_type": "error",
     "traceback": [
      "\u001b[1;31m---------------------------------------------------------------------------\u001b[0m",
      "\u001b[1;31mUnboundLocalError\u001b[0m                         Traceback (most recent call last)",
      "\u001b[1;32mc:\\Users\\dania\\Downloads\\dan_file\\own\\kebabertestbot\\vocabtest.ipynb Ячейка 4\u001b[0m in \u001b[0;36m<cell line: 1>\u001b[1;34m()\u001b[0m\n\u001b[1;32m----> <a href='vscode-notebook-cell:/c%3A/Users/dania/Downloads/dan_file/own/kebabertestbot/vocabtest.ipynb#X13sZmlsZQ%3D%3D?line=0'>1</a>\u001b[0m a()\n",
      "\u001b[1;32mc:\\Users\\dania\\Downloads\\dan_file\\own\\kebabertestbot\\vocabtest.ipynb Ячейка 4\u001b[0m in \u001b[0;36ma\u001b[1;34m()\u001b[0m\n\u001b[0;32m      <a href='vscode-notebook-cell:/c%3A/Users/dania/Downloads/dan_file/own/kebabertestbot/vocabtest.ipynb#X13sZmlsZQ%3D%3D?line=0'>1</a>\u001b[0m \u001b[39mdef\u001b[39;00m \u001b[39ma\u001b[39m():\n\u001b[1;32m----> <a href='vscode-notebook-cell:/c%3A/Users/dania/Downloads/dan_file/own/kebabertestbot/vocabtest.ipynb#X13sZmlsZQ%3D%3D?line=1'>2</a>\u001b[0m     df\u001b[39m.\u001b[39mloc[\u001b[39mlen\u001b[39m(df\u001b[39m.\u001b[39mindex)] \u001b[39m=\u001b[39m [\u001b[39m1\u001b[39m, \u001b[39m1\u001b[39m, \u001b[39m1\u001b[39m]\n\u001b[0;32m      <a href='vscode-notebook-cell:/c%3A/Users/dania/Downloads/dan_file/own/kebabertestbot/vocabtest.ipynb#X13sZmlsZQ%3D%3D?line=2'>3</a>\u001b[0m     df\u001b[39m.\u001b[39mword[\u001b[39mlen\u001b[39m(df\u001b[39m.\u001b[39mindex) \u001b[39m-\u001b[39m \u001b[39m1\u001b[39m] \u001b[39m=\u001b[39m \u001b[39m'\u001b[39m\u001b[39mex\u001b[39m\u001b[39m'\u001b[39m\n\u001b[0;32m      <a href='vscode-notebook-cell:/c%3A/Users/dania/Downloads/dan_file/own/kebabertestbot/vocabtest.ipynb#X13sZmlsZQ%3D%3D?line=3'>4</a>\u001b[0m     df\u001b[39m.\u001b[39mtranslation[\u001b[39mlen\u001b[39m(df\u001b[39m.\u001b[39mindex) \u001b[39m-\u001b[39m \u001b[39m1\u001b[39m] \u001b[39m=\u001b[39m \u001b[39m'\u001b[39m\u001b[39mex\u001b[39m\u001b[39m'\u001b[39m\n",
      "\u001b[1;31mUnboundLocalError\u001b[0m: local variable 'df' referenced before assignment"
     ]
    }
   ],
   "source": [
    "a()"
   ]
  },
  {
   "cell_type": "code",
   "execution_count": null,
   "id": "4ae71644",
   "metadata": {},
   "outputs": [],
   "source": []
  },
  {
   "cell_type": "code",
   "execution_count": 31,
   "id": "da7b8cc6",
   "metadata": {},
   "outputs": [],
   "source": [
    "words = list(df[df.type == 'noun'].word)\n",
    "translations = list(df[df.type == 'noun'].translation)\n",
    "for i in range(len(words)):\n",
    "    words[i] = words[i] + ' - ' + translations[i]"
   ]
  },
  {
   "cell_type": "code",
   "execution_count": 34,
   "id": "c91fcbf2",
   "metadata": {},
   "outputs": [
    {
     "ename": "SyntaxError",
     "evalue": "invalid syntax (3089448037.py, line 2)",
     "output_type": "error",
     "traceback": [
      "\u001b[1;36m  Input \u001b[1;32mIn [34]\u001b[1;36m\u001b[0m\n\u001b[1;33m    df.[a]\u001b[0m\n\u001b[1;37m       ^\u001b[0m\n\u001b[1;31mSyntaxError\u001b[0m\u001b[1;31m:\u001b[0m invalid syntax\n"
     ]
    }
   ],
   "source": [
    "a = 'word'\n",
    "df.[a]"
   ]
  },
  {
   "cell_type": "code",
   "execution_count": null,
   "id": "542ddb3d",
   "metadata": {},
   "outputs": [],
   "source": []
  },
  {
   "cell_type": "code",
   "execution_count": 15,
   "id": "b2aa9dea",
   "metadata": {},
   "outputs": [],
   "source": [
    "df.to_csv('vocab.csv', index=False)"
   ]
  },
  {
   "cell_type": "code",
   "execution_count": 32,
   "id": "e5e515c6",
   "metadata": {},
   "outputs": [
    {
     "data": {
      "text/plain": [
       "['devotion - преданность', 'Hello - привет', 'word - слово']"
      ]
     },
     "execution_count": 32,
     "metadata": {},
     "output_type": "execute_result"
    }
   ],
   "source": [
    "words"
   ]
  },
  {
   "cell_type": "code",
   "execution_count": null,
   "id": "a486d1d7",
   "metadata": {},
   "outputs": [],
   "source": []
  }
 ],
 "metadata": {
  "kernelspec": {
   "display_name": "Python 3.10.6 64-bit (windows store)",
   "language": "python",
   "name": "python3"
  },
  "language_info": {
   "codemirror_mode": {
    "name": "ipython",
    "version": 3
   },
   "file_extension": ".py",
   "mimetype": "text/x-python",
   "name": "python",
   "nbconvert_exporter": "python",
   "pygments_lexer": "ipython3",
   "version": "3.10.6"
  },
  "vscode": {
   "interpreter": {
    "hash": "4e769606336848c82845e16c19cd17d4c01f719349fc0c1daeb19e6cb283e9de"
   }
  }
 },
 "nbformat": 4,
 "nbformat_minor": 5
}
