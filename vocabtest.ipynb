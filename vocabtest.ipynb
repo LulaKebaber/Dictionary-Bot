{
 "cells": [
  {
   "cell_type": "code",
   "execution_count": 1,
   "metadata": {},
   "outputs": [],
   "source": [
    "import pandas as pd\n",
    "df = pd.read_csv('vocab.csv')\n",
    "us = pd.read_csv('userinfo.csv')"
   ]
  },
  {
   "cell_type": "code",
   "execution_count": 10,
   "id": "7a2b0613",
   "metadata": {},
   "outputs": [
    {
     "data": {
      "text/html": [
       "<div>\n",
       "<style scoped>\n",
       "    .dataframe tbody tr th:only-of-type {\n",
       "        vertical-align: middle;\n",
       "    }\n",
       "\n",
       "    .dataframe tbody tr th {\n",
       "        vertical-align: top;\n",
       "    }\n",
       "\n",
       "    .dataframe thead th {\n",
       "        text-align: right;\n",
       "    }\n",
       "</style>\n",
       "<table border=\"1\" class=\"dataframe\">\n",
       "  <thead>\n",
       "    <tr style=\"text-align: right;\">\n",
       "      <th></th>\n",
       "      <th>word</th>\n",
       "      <th>translation</th>\n",
       "      <th>type</th>\n",
       "      <th>userid</th>\n",
       "    </tr>\n",
       "  </thead>\n",
       "  <tbody>\n",
       "    <tr>\n",
       "      <th>0</th>\n",
       "      <td>devotion</td>\n",
       "      <td>преданность</td>\n",
       "      <td>noun</td>\n",
       "      <td>612269874</td>\n",
       "    </tr>\n",
       "    <tr>\n",
       "      <th>1</th>\n",
       "      <td>dauntless</td>\n",
       "      <td>бесстрашный</td>\n",
       "      <td>adjective</td>\n",
       "      <td>612269874</td>\n",
       "    </tr>\n",
       "    <tr>\n",
       "      <th>2</th>\n",
       "      <td>Hitherto</td>\n",
       "      <td>До сих пор</td>\n",
       "      <td>adjective</td>\n",
       "      <td>612269874</td>\n",
       "    </tr>\n",
       "    <tr>\n",
       "      <th>3</th>\n",
       "      <td>lucidity</td>\n",
       "      <td>ясность</td>\n",
       "      <td>noun</td>\n",
       "      <td>612269874</td>\n",
       "    </tr>\n",
       "    <tr>\n",
       "      <th>4</th>\n",
       "      <td>contemptuous</td>\n",
       "      <td>презрительный</td>\n",
       "      <td>adjective</td>\n",
       "      <td>612269874</td>\n",
       "    </tr>\n",
       "  </tbody>\n",
       "</table>\n",
       "</div>"
      ],
      "text/plain": [
       "           word    translation       type     userid\n",
       "0      devotion    преданность       noun  612269874\n",
       "1     dauntless    бесстрашный  adjective  612269874\n",
       "2      Hitherto     До сих пор  adjective  612269874\n",
       "3      lucidity        ясность       noun  612269874\n",
       "4  contemptuous  презрительный  adjective  612269874"
      ]
     },
     "execution_count": 10,
     "metadata": {},
     "output_type": "execute_result"
    }
   ],
   "source": [
    "df.head()"
   ]
  },
  {
   "cell_type": "code",
   "execution_count": 25,
   "id": "752196c1",
   "metadata": {},
   "outputs": [
    {
     "name": "stdout",
     "output_type": "stream",
     "text": [
      "noun\n",
      "adjective\n"
     ]
    }
   ],
   "source": [
    "for i in list(df[df.userid == 612269874].type.unique()): print(i)"
   ]
  },
  {
   "cell_type": "code",
   "execution_count": null,
   "id": "cae8acad",
   "metadata": {},
   "outputs": [],
   "source": []
  },
  {
   "cell_type": "code",
   "execution_count": null,
   "id": "1ef2e624",
   "metadata": {},
   "outputs": [],
   "source": []
  },
  {
   "cell_type": "code",
   "execution_count": 111,
   "id": "77466cbc",
   "metadata": {},
   "outputs": [],
   "source": [
    "us.to_csv('userinfo.csv', index=False)"
   ]
  },
  {
   "cell_type": "code",
   "execution_count": 120,
   "id": "b2aa9dea",
   "metadata": {},
   "outputs": [],
   "source": [
    "df.to_csv('vocab.csv', index=False)"
   ]
  },
  {
   "cell_type": "code",
   "execution_count": null,
   "id": "f299b991",
   "metadata": {},
   "outputs": [],
   "source": []
  }
 ],
 "metadata": {
  "kernelspec": {
   "display_name": "Python 3.10.6 64-bit (windows store)",
   "language": "python",
   "name": "python3"
  },
  "language_info": {
   "codemirror_mode": {
    "name": "ipython",
    "version": 3
   },
   "file_extension": ".py",
   "mimetype": "text/x-python",
   "name": "python",
   "nbconvert_exporter": "python",
   "pygments_lexer": "ipython3",
   "version": "3.10.6"
  },
  "vscode": {
   "interpreter": {
    "hash": "4e769606336848c82845e16c19cd17d4c01f719349fc0c1daeb19e6cb283e9de"
   }
  }
 },
 "nbformat": 4,
 "nbformat_minor": 5
}
